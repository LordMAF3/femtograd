{
 "cells": [
  {
   "cell_type": "code",
   "execution_count": 2,
   "metadata": {},
   "outputs": [
    {
     "name": "stdout",
     "output_type": "stream",
     "text": [
      "Training neural network...\n",
      "Epoch #1, #2, #3, #4, #5, #6, #7, #8, #9, #10, #11, #12, #13, #14, #15, #16, #17, #18, #19, #20, #21, #22, #23, #24, #25, #26, #27, #28, #29, #30, #31, #32, #33, #34, #35, #36, #37, #38, #39, #40, #41, #42, #43, #44, #45, #46, #47, #48, #49, #50, #51, #52, #53, #54, #55, #56, #57, #58, #59, #60, #61, #62, #63, #64, #65, #66, #67, #68, #69, #70, #71, #72, #73, #74, #75, #76, #77, #78, #79, #80, #81, #82, #83, #84, #85, #86, #87, #88, #89, #90, #91, #92, #93, #94, #95, #96, #97, #98, #99, #100, \n",
      "Neural network successfully trained.\n",
      "Last cost is 8.84727229103256\n",
      "[Value(data=-0.26532371442513375, grad=0), Value(data=-0.3541430749433163, grad=0), Value(data=0.0, grad=0), Value(data=0.4378503486627766, grad=0), Value(data=0.11216229236891016, grad=0), Value(data=-0.0002527354695066983, grad=0), Value(data=0.8559696620760221, grad=0), Value(data=0.6172926448561261, grad=0), Value(data=-0.0003085186739781955, grad=0), Value(data=0.689108316094627, grad=0), Value(data=0.007704010737355367, grad=0), Value(data=0.017366366482735412, grad=0), Value(data=-0.002571911818236991, grad=0), Value(data=0.32709739888928296, grad=0), Value(data=0.5039885216619182, grad=0), Value(data=0.19276867928191527, grad=0), Value(data=-0.0009347419579725765, grad=0), Value(data=0.17548415232474157, grad=0), Value(data=0.5205916526921548, grad=0), Value(data=-0.047665233554205204, grad=0), Value(data=0.0004988752934674764, grad=0), Value(data=-0.9667019428438133, grad=0), Value(data=-0.34379775124651407, grad=0), Value(data=0.19046219162015354, grad=0), Value(data=0.0026580928679675207, grad=0)]\n"
     ]
    }
   ],
   "source": [
    "from DenseNN import *\n",
    "\n",
    "x = [[1,2], [3,4], [5,6]]\n",
    "#y = [[1, 0, 0], [1, 0, 0], [0, 0, 1]]\n",
    "y = [1,0,1]\n",
    "nn = DenseNN(2, (3, 3, 1), ('relu', 'relu', 'sigmoid'))\n",
    "nn = nn.Train(x, y, loss='BCE', epochs_number=100, learning_rate=0.01, batch_size=10, decay_rate=2, L2_regularization=2)\n",
    "#print(nn.Predict([1,2]))\n",
    "print(nn.parameters())"
   ]
  }
 ],
 "metadata": {
  "kernelspec": {
   "display_name": "Python 3",
   "language": "python",
   "name": "python3"
  },
  "language_info": {
   "codemirror_mode": {
    "name": "ipython",
    "version": 3
   },
   "file_extension": ".py",
   "mimetype": "text/x-python",
   "name": "python",
   "nbconvert_exporter": "python",
   "pygments_lexer": "ipython3",
   "version": "3.10.1"
  },
  "orig_nbformat": 4,
  "vscode": {
   "interpreter": {
    "hash": "253b3c64a267e3ec739c1b21e174ad40505738b0c33273b20a0c14388736b459"
   }
  }
 },
 "nbformat": 4,
 "nbformat_minor": 2
}
